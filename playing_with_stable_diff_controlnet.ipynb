{
 "cells": [
  {
   "cell_type": "code",
   "execution_count": 2,
   "metadata": {},
   "outputs": [
    {
     "name": "stdout",
     "output_type": "stream",
     "text": [
      "env: REPLICATE_API_TOKEN=r8_crPwrTF7viKk4rkkrDTd8lyogfw8CHC0cuWE7\n"
     ]
    }
   ],
   "source": [
    "%set_env REPLICATE_API_TOKEN=r8_crPwrTF7viKk4rkkrDTd8lyogfw8CHC0cuWE7\n",
    "\n",
    "import replicate\n",
    "\n",
    "output = replicate.run(\n",
    "    \"stability-ai/stable-diffusion:db21e45d3f7023abc2a46ee38a23973f6dce16bb082a930b0c49861f96d1e5bf\",\n",
    "    input={\"prompt\": \"an astronaut riding on a horse\"},\n",
    ")"
   ]
  },
  {
   "cell_type": "code",
   "execution_count": 22,
   "metadata": {},
   "outputs": [
    {
     "data": {
      "text/html": [
       "<img src=\"https://replicate.delivery/pbxt/eyLhWrTtVTTmCCb1lVezvO3M8H7wfpDZo3gCPpVVUHpHyfQEB/out-0.png\"/>"
      ],
      "text/plain": [
       "<IPython.core.display.Image object>"
      ]
     },
     "metadata": {},
     "output_type": "display_data"
    }
   ],
   "source": [
    "from IPython.display import display, Image\n",
    "\n",
    "display(Image(url=output[0]))\n",
    "\n",
    "\n",
    "\n",
    "#for image in output:\n",
    "#    display(Image(url=image))"
   ]
  }
 ],
 "metadata": {
  "kernelspec": {
   "display_name": "mlops-course",
   "language": "python",
   "name": "python3"
  },
  "language_info": {
   "codemirror_mode": {
    "name": "ipython",
    "version": 3
   },
   "file_extension": ".py",
   "mimetype": "text/x-python",
   "name": "python",
   "nbconvert_exporter": "python",
   "pygments_lexer": "ipython3",
   "version": "3.8.15"
  },
  "orig_nbformat": 4
 },
 "nbformat": 4,
 "nbformat_minor": 2
}
