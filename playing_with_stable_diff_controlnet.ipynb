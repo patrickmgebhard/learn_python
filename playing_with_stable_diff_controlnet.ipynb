{
 "cells": [
  {
   "cell_type": "code",
   "execution_count": 11,
   "metadata": {},
   "outputs": [
    {
     "name": "stdout",
     "output_type": "stream",
     "text": [
      "env: REPLICATE_API_TOKEN=r8_crPwrTF7viKk4rkkrDTd8lyogfw8CHC0cuWE7\n"
     ]
    }
   ],
   "source": [
    "%set_env REPLICATE_API_TOKEN=r8_crPwrTF7viKk4rkkrDTd8lyogfw8CHC0cuWE7\n",
    "\n",
    "import replicate\n",
    "output = replicate.run(\n",
    "    \"stability-ai/stable-diffusion:db21e45d3f7023abc2a46ee38a23973f6dce16bb082a930b0c49861f96d1e5bf\",\n",
    "    input={\"prompt\": \"an astronaut riding on a horse\"},\n",
    ")"
   ]
  }
 ],
 "metadata": {
  "kernelspec": {
   "display_name": "mlops-course",
   "language": "python",
   "name": "python3"
  },
  "language_info": {
   "codemirror_mode": {
    "name": "ipython",
    "version": 3
   },
   "file_extension": ".py",
   "mimetype": "text/x-python",
   "name": "python",
   "nbconvert_exporter": "python",
   "pygments_lexer": "ipython3",
   "version": "3.8.15"
  },
  "orig_nbformat": 4
 },
 "nbformat": 4,
 "nbformat_minor": 2
}
