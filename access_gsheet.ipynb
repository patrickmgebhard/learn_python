{
 "cells": [
  {
   "cell_type": "code",
   "execution_count": 1,
   "metadata": {},
   "outputs": [
    {
     "data": {
      "text/plain": [
       "23555"
      ]
     },
     "execution_count": 1,
     "metadata": {},
     "output_type": "execute_result"
    }
   ],
   "source": [
    "# trying to access the separate GSheets here: https://layoffs.fyi/\n",
    "import requests as rs\n",
    "\n",
    "csv_url='https://docs.google.com/spreadsheets/d/1uyTQmiT0CBSJBum-GVc-TDcPyL825RkAnBu9nNIA5wc/export?format=csv&id=1uyTQmiT0CBSJBum-GVc-TDcPyL825RkAnBu9nNIA5wc&gid=1886320755'\n",
    "res=rs.get(url=csv_url)\n",
    "open('splunk_layoffs.csv', 'wb').write(res.content)"
   ]
  }
 ],
 "metadata": {
  "kernelspec": {
   "display_name": "mlops-course",
   "language": "python",
   "name": "python3"
  },
  "language_info": {
   "codemirror_mode": {
    "name": "ipython",
    "version": 3
   },
   "file_extension": ".py",
   "mimetype": "text/x-python",
   "name": "python",
   "nbconvert_exporter": "python",
   "pygments_lexer": "ipython3",
   "version": "3.8.15 (default, Nov 24 2022, 08:57:44) \n[Clang 14.0.6 ]"
  },
  "orig_nbformat": 4,
  "vscode": {
   "interpreter": {
    "hash": "bb28e989ebd3b6bfacf4d6b6d3df1188bd2b7a0e2e701159f588e8fc817a4755"
   }
  }
 },
 "nbformat": 4,
 "nbformat_minor": 2
}
