{
 "cells": [
  {
   "cell_type": "code",
   "execution_count": 7,
   "metadata": {},
   "outputs": [
    {
     "ename": "FileNotFoundError",
     "evalue": "[Errno 2] No such file or directory: 'search_polygon.geojson'",
     "output_type": "error",
     "traceback": [
      "\u001b[0;31m---------------------------------------------------------------------------\u001b[0m",
      "\u001b[0;31mFileNotFoundError\u001b[0m                         Traceback (most recent call last)",
      "Cell \u001b[0;32mIn[7], line 6\u001b[0m\n\u001b[1;32m      4\u001b[0m password \u001b[39m=\u001b[39m \u001b[39m'\u001b[39m\u001b[39mthisismycoolpw\u001b[39m\u001b[39m'\u001b[39m \n\u001b[1;32m      5\u001b[0m api \u001b[39m=\u001b[39m SentinelAPI(user, password, \u001b[39m'\u001b[39m\u001b[39mhttps://scihub.copernicus.eu/dhus\u001b[39m\u001b[39m'\u001b[39m)\n\u001b[0;32m----> 6\u001b[0m footprint \u001b[39m=\u001b[39m geojson_to_wkt(read_geojson(\u001b[39m'\u001b[39;49m\u001b[39msearch_polygon.geojson\u001b[39;49m\u001b[39m'\u001b[39;49m))\n\u001b[1;32m      7\u001b[0m products \u001b[39m=\u001b[39m api\u001b[39m.\u001b[39mquery(footprint,\n\u001b[1;32m      8\u001b[0m                      producttype\u001b[39m=\u001b[39m\u001b[39m'\u001b[39m\u001b[39mSLC\u001b[39m\u001b[39m'\u001b[39m,\n\u001b[1;32m      9\u001b[0m                      orbitdirection\u001b[39m=\u001b[39m\u001b[39m'\u001b[39m\u001b[39mASCENDING\u001b[39m\u001b[39m'\u001b[39m,\n\u001b[1;32m     10\u001b[0m                      limit\u001b[39m=\u001b[39m\u001b[39m10\u001b[39m)\n\u001b[1;32m     11\u001b[0m api\u001b[39m.\u001b[39mdownload_all(products)\n",
      "File \u001b[0;32m/opt/homebrew/Caskroom/miniconda/base/envs/mlops-course/lib/python3.8/site-packages/sentinelsat/sentinel.py:1119\u001b[0m, in \u001b[0;36mread_geojson\u001b[0;34m(geojson_file)\u001b[0m\n\u001b[1;32m   1117\u001b[0m \u001b[39mdef\u001b[39;00m \u001b[39mread_geojson\u001b[39m(geojson_file):\n\u001b[1;32m   1118\u001b[0m     \u001b[39m\"\"\"Read a GeoJSON file into a GeoJSON object.\"\"\"\u001b[39;00m\n\u001b[0;32m-> 1119\u001b[0m     \u001b[39mwith\u001b[39;00m \u001b[39mopen\u001b[39;49m(geojson_file) \u001b[39mas\u001b[39;00m f:\n\u001b[1;32m   1120\u001b[0m         \u001b[39mreturn\u001b[39;00m geojson\u001b[39m.\u001b[39mload(f)\n",
      "\u001b[0;31mFileNotFoundError\u001b[0m: [Errno 2] No such file or directory: 'search_polygon.geojson'"
     ]
    }
   ],
   "source": [
    "from sentinelsat import SentinelAPI, read_geojson, geojson_to_wkt\n",
    "\n",
    "user = 'patrickgebhard' \n",
    "password = 'thisismycoolpw' \n",
    "api = SentinelAPI(user, password, 'https://scihub.copernicus.eu/dhus')\n",
    "footprint = geojson_to_wkt(read_geojson('search_polygon.geojson'))\n",
    "products = api.query(footprint,\n",
    "                     producttype='SLC',\n",
    "                     orbitdirection='ASCENDING',\n",
    "                     limit=10)\n",
    "api.download_all(products)"
   ]
  }
 ],
 "metadata": {
  "kernelspec": {
   "display_name": "mlops-course",
   "language": "python",
   "name": "python3"
  },
  "language_info": {
   "codemirror_mode": {
    "name": "ipython",
    "version": 3
   },
   "file_extension": ".py",
   "mimetype": "text/x-python",
   "name": "python",
   "nbconvert_exporter": "python",
   "pygments_lexer": "ipython3",
   "version": "3.8.15"
  },
  "orig_nbformat": 4,
  "vscode": {
   "interpreter": {
    "hash": "bb28e989ebd3b6bfacf4d6b6d3df1188bd2b7a0e2e701159f588e8fc817a4755"
   }
  }
 },
 "nbformat": 4,
 "nbformat_minor": 2
}
