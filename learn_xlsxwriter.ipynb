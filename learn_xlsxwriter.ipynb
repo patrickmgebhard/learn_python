{
 "cells": [
  {
   "cell_type": "code",
   "execution_count": 1,
   "metadata": {},
   "outputs": [],
   "source": [
    "import xlsxwriter\n",
    "\n",
    "workbook = xlsxwriter.Workbook('hello.xlsx')\n",
    "worksheet = workbook.add_worksheet()\n",
    "\n",
    "worksheet.write('A1', 'Hello world')\n",
    "\n",
    "workbook.close()"
   ]
  },
  {
   "cell_type": "code",
   "execution_count": 3,
   "metadata": {},
   "outputs": [],
   "source": [
    "import xlsxwriter\n",
    "\n",
    "# Create a workbook and add a worksheet.\n",
    "workbook = xlsxwriter.Workbook('Expenses02.xlsx')\n",
    "worksheet = workbook.add_worksheet()\n",
    "\n",
    "# Add a bold format to use to highlight cells.\n",
    "bold = workbook.add_format({'bold': True})\n",
    "\n",
    "# Add a number format for cells with money.\n",
    "money = workbook.add_format({'num_format': '$#,##0'})\n",
    "\n",
    "# Write some data headers.\n",
    "worksheet.write('A1', 'Item', bold)\n",
    "worksheet.write('B1', 'Cost', bold)\n",
    "\n",
    "# Some data we want to write to the worksheet.\n",
    "expenses = (\n",
    "     ['Rent', 1000],\n",
    "     ['Gas',   100],\n",
    "     ['Food',  300],\n",
    "     ['Gym',    50],\n",
    " )\n",
    "\n",
    "# Start from the first cell below the headers.\n",
    "row = 1\n",
    "col = 0\n",
    "\n",
    "# Iterate over the data and write it out row by row.\n",
    "for item, cost in (expenses):\n",
    "    worksheet.write(row, col,     item)\n",
    "    worksheet.write(row, col + 1, cost, money)\n",
    "    row += 1\n",
    "\n",
    "# Write a total using a formula.\n",
    "worksheet.write(row, 0, 'Total',       bold)\n",
    "worksheet.write(row, 1, '=SUM(B2:B5)', money)\n",
    "\n",
    "workbook.close()"
   ]
  }
 ],
 "metadata": {
  "kernelspec": {
   "display_name": "mlops-course",
   "language": "python",
   "name": "python3"
  },
  "language_info": {
   "codemirror_mode": {
    "name": "ipython",
    "version": 3
   },
   "file_extension": ".py",
   "mimetype": "text/x-python",
   "name": "python",
   "nbconvert_exporter": "python",
   "pygments_lexer": "ipython3",
   "version": "3.8.15"
  },
  "orig_nbformat": 4,
  "vscode": {
   "interpreter": {
    "hash": "bb28e989ebd3b6bfacf4d6b6d3df1188bd2b7a0e2e701159f588e8fc817a4755"
   }
  }
 },
 "nbformat": 4,
 "nbformat_minor": 2
}
