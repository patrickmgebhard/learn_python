{
 "cells": [
  {
   "cell_type": "code",
   "execution_count": 1,
   "metadata": {},
   "outputs": [],
   "source": [
    "from openpyxl import Workbook\n",
    "\n",
    "workbook = Workbook()\n",
    "sheet = workbook.active\n",
    "\n",
    "sheet[\"A1\"] = \"=SUM(1, 1)\"\n",
    "sheet[\"B1\"] = \"world!\"\n",
    "\n",
    "import datetime\n",
    "sheet[\"C1\"] = datetime.datetime.now()\n",
    "\n",
    "workbook.save(filename=\"hello_world.xlsx\")"
   ]
  }
 ],
 "metadata": {
  "kernelspec": {
   "display_name": "mlops-course",
   "language": "python",
   "name": "python3"
  },
  "language_info": {
   "codemirror_mode": {
    "name": "ipython",
    "version": 3
   },
   "file_extension": ".py",
   "mimetype": "text/x-python",
   "name": "python",
   "nbconvert_exporter": "python",
   "pygments_lexer": "ipython3",
   "version": "3.8.15"
  },
  "orig_nbformat": 4,
  "vscode": {
   "interpreter": {
    "hash": "bb28e989ebd3b6bfacf4d6b6d3df1188bd2b7a0e2e701159f588e8fc817a4755"
   }
  }
 },
 "nbformat": 4,
 "nbformat_minor": 2
}
